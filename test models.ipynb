{
 "cells": [
  {
   "cell_type": "markdown",
   "metadata": {},
   "source": [
    "Модель \"Random forest\""
   ]
  },
  {
   "cell_type": "code",
   "execution_count": 1,
   "metadata": {},
   "outputs": [
    {
     "name": "stderr",
     "output_type": "stream",
     "text": [
      "C:\\Users\\b1gtz\\AppData\\Local\\Temp\\ipykernel_6436\\748764393.py:6: DtypeWarning: Columns (53) have mixed types. Specify dtype option on import or set low_memory=False.\n",
      "  train_data = pd.read_csv('cleaned_train.csv')\n"
     ]
    },
    {
     "name": "stdout",
     "output_type": "stream",
     "text": [
      "Отчет на обучающей выборке:\n",
      "              precision    recall  f1-score   support\n",
      "\n",
      "           0       1.00      0.93      0.96     14020\n",
      "           1       0.28      0.94      0.44       436\n",
      "\n",
      "    accuracy                           0.93     14456\n",
      "   macro avg       0.64      0.93      0.70     14456\n",
      "weighted avg       0.98      0.93      0.94     14456\n",
      "\n",
      "ROC-AUC на обучающей выборке: 0.975\n",
      "Сохранено 109 потенциальных покупателей в файл 'potential_buyers_train_rf.csv'.\n"
     ]
    }
   ],
   "source": [
    "import pandas as pd\n",
    "from sklearn.ensemble import RandomForestClassifier\n",
    "from sklearn.metrics import classification_report, roc_auc_score\n",
    "\n",
    "# Загрузка тренировочных данных\n",
    "train_data = pd.read_csv('cleaned_train.csv')\n",
    "\n",
    "# Разделение признаков и целевой переменной\n",
    "X_train = train_data.drop(columns=['client_id', 'target'])\n",
    "y_train = train_data['target']\n",
    "\n",
    "# Преобразование категориальных признаков\n",
    "X_train = pd.get_dummies(X_train, drop_first=True)\n",
    "\n",
    "# Обучение модели Random Forest\n",
    "model = RandomForestClassifier(\n",
    "    random_state=42,\n",
    "    class_weight='balanced',\n",
    "    n_estimators=100,  # Количество деревьев\n",
    "    max_depth=10,      # Максимальная глубина деревьев\n",
    "    min_samples_split=5,  # Минимальное количество выборок для разбиения\n",
    ")\n",
    "model.fit(X_train, y_train)\n",
    "\n",
    "# Оценка качества модели на тренировочной выборке\n",
    "y_pred_train = model.predict(X_train)\n",
    "print(\"Отчет на обучающей выборке:\")\n",
    "print(classification_report(y_train, y_pred_train))\n",
    "\n",
    "roc_auc_train = roc_auc_score(y_train, model.predict_proba(X_train)[:, 1])\n",
    "print(f\"ROC-AUC на обучающей выборке: {roc_auc_train:.3f}\")\n",
    "\n",
    "# Предсказание вероятностей\n",
    "y_proba_train = model.predict_proba(X_train)[:, 1]\n",
    "\n",
    "# Фильтрация потенциальных покупателей (вероятность >= 0.6)\n",
    "threshold = 0.6\n",
    "potential_buyers_train = train_data[y_proba_train >= threshold]\n",
    "\n",
    "# Сохранение потенциальных покупателей в файл\n",
    "potential_buyers_train.to_csv('potential_buyers_train_rf.csv', index=False)\n",
    "print(f\"Сохранено {len(potential_buyers_train)} потенциальных покупателей в файл 'potential_buyers_train_rf.csv'.\")"
   ]
  },
  {
   "cell_type": "markdown",
   "metadata": {},
   "source": [
    "Модель \"Cat boost\""
   ]
  },
  {
   "cell_type": "code",
   "execution_count": 4,
   "metadata": {},
   "outputs": [
    {
     "name": "stdout",
     "output_type": "stream",
     "text": [
      "Requirement already satisfied: catboost in c:\\users\\b1gtz\\appdata\\local\\packages\\pythonsoftwarefoundation.python.3.11_qbz5n2kfra8p0\\localcache\\local-packages\\python311\\site-packages (1.2.7)\n",
      "Requirement already satisfied: graphviz in c:\\users\\b1gtz\\appdata\\local\\packages\\pythonsoftwarefoundation.python.3.11_qbz5n2kfra8p0\\localcache\\local-packages\\python311\\site-packages (from catboost) (0.20.3)\n",
      "Requirement already satisfied: matplotlib in c:\\users\\b1gtz\\appdata\\local\\packages\\pythonsoftwarefoundation.python.3.11_qbz5n2kfra8p0\\localcache\\local-packages\\python311\\site-packages (from catboost) (3.9.3)\n",
      "Requirement already satisfied: numpy<2.0,>=1.16.0 in c:\\users\\b1gtz\\appdata\\local\\packages\\pythonsoftwarefoundation.python.3.11_qbz5n2kfra8p0\\localcache\\local-packages\\python311\\site-packages (from catboost) (1.24.3)\n",
      "Requirement already satisfied: pandas>=0.24 in c:\\users\\b1gtz\\appdata\\local\\packages\\pythonsoftwarefoundation.python.3.11_qbz5n2kfra8p0\\localcache\\local-packages\\python311\\site-packages (from catboost) (2.2.3)\n",
      "Requirement already satisfied: scipy in c:\\users\\b1gtz\\appdata\\local\\packages\\pythonsoftwarefoundation.python.3.11_qbz5n2kfra8p0\\localcache\\local-packages\\python311\\site-packages (from catboost) (1.14.1)\n",
      "Requirement already satisfied: plotly in c:\\users\\b1gtz\\appdata\\local\\packages\\pythonsoftwarefoundation.python.3.11_qbz5n2kfra8p0\\localcache\\local-packages\\python311\\site-packages (from catboost) (5.24.1)\n",
      "Requirement already satisfied: six in c:\\users\\b1gtz\\appdata\\local\\packages\\pythonsoftwarefoundation.python.3.11_qbz5n2kfra8p0\\localcache\\local-packages\\python311\\site-packages (from catboost) (1.17.0)\n",
      "Requirement already satisfied: python-dateutil>=2.8.2 in c:\\users\\b1gtz\\appdata\\local\\packages\\pythonsoftwarefoundation.python.3.11_qbz5n2kfra8p0\\localcache\\local-packages\\python311\\site-packages (from pandas>=0.24->catboost) (2.9.0.post0)\n",
      "Requirement already satisfied: pytz>=2020.1 in c:\\users\\b1gtz\\appdata\\local\\packages\\pythonsoftwarefoundation.python.3.11_qbz5n2kfra8p0\\localcache\\local-packages\\python311\\site-packages (from pandas>=0.24->catboost) (2024.2)\n",
      "Requirement already satisfied: tzdata>=2022.7 in c:\\users\\b1gtz\\appdata\\local\\packages\\pythonsoftwarefoundation.python.3.11_qbz5n2kfra8p0\\localcache\\local-packages\\python311\\site-packages (from pandas>=0.24->catboost) (2024.2)\n",
      "Requirement already satisfied: contourpy>=1.0.1 in c:\\users\\b1gtz\\appdata\\local\\packages\\pythonsoftwarefoundation.python.3.11_qbz5n2kfra8p0\\localcache\\local-packages\\python311\\site-packages (from matplotlib->catboost) (1.3.1)\n",
      "Requirement already satisfied: cycler>=0.10 in c:\\users\\b1gtz\\appdata\\local\\packages\\pythonsoftwarefoundation.python.3.11_qbz5n2kfra8p0\\localcache\\local-packages\\python311\\site-packages (from matplotlib->catboost) (0.12.1)\n",
      "Requirement already satisfied: fonttools>=4.22.0 in c:\\users\\b1gtz\\appdata\\local\\packages\\pythonsoftwarefoundation.python.3.11_qbz5n2kfra8p0\\localcache\\local-packages\\python311\\site-packages (from matplotlib->catboost) (4.55.3)\n",
      "Requirement already satisfied: kiwisolver>=1.3.1 in c:\\users\\b1gtz\\appdata\\local\\packages\\pythonsoftwarefoundation.python.3.11_qbz5n2kfra8p0\\localcache\\local-packages\\python311\\site-packages (from matplotlib->catboost) (1.4.7)\n",
      "Requirement already satisfied: packaging>=20.0 in c:\\users\\b1gtz\\appdata\\local\\packages\\pythonsoftwarefoundation.python.3.11_qbz5n2kfra8p0\\localcache\\local-packages\\python311\\site-packages (from matplotlib->catboost) (24.2)\n",
      "Requirement already satisfied: pillow>=8 in c:\\users\\b1gtz\\appdata\\local\\packages\\pythonsoftwarefoundation.python.3.11_qbz5n2kfra8p0\\localcache\\local-packages\\python311\\site-packages (from matplotlib->catboost) (11.0.0)\n",
      "Requirement already satisfied: pyparsing>=2.3.1 in c:\\users\\b1gtz\\appdata\\local\\packages\\pythonsoftwarefoundation.python.3.11_qbz5n2kfra8p0\\localcache\\local-packages\\python311\\site-packages (from matplotlib->catboost) (3.2.0)\n",
      "Requirement already satisfied: tenacity>=6.2.0 in c:\\users\\b1gtz\\appdata\\local\\packages\\pythonsoftwarefoundation.python.3.11_qbz5n2kfra8p0\\localcache\\local-packages\\python311\\site-packages (from plotly->catboost) (9.0.0)\n"
     ]
    },
    {
     "name": "stderr",
     "output_type": "stream",
     "text": [
      "\n",
      "[notice] A new release of pip is available: 24.0 -> 24.3.1\n",
      "[notice] To update, run: C:\\Users\\b1gtz\\AppData\\Local\\Microsoft\\WindowsApps\\PythonSoftwareFoundation.Python.3.11_qbz5n2kfra8p0\\python.exe -m pip install --upgrade pip\n"
     ]
    }
   ],
   "source": [
    "!pip install catboost"
   ]
  },
  {
   "cell_type": "code",
   "execution_count": 5,
   "metadata": {},
   "outputs": [
    {
     "name": "stderr",
     "output_type": "stream",
     "text": [
      "C:\\Users\\b1gtz\\AppData\\Local\\Temp\\ipykernel_8348\\392297685.py:6: DtypeWarning: Columns (53) have mixed types. Specify dtype option on import or set low_memory=False.\n",
      "  train_data = pd.read_csv('cleaned_train.csv')\n"
     ]
    },
    {
     "name": "stdout",
     "output_type": "stream",
     "text": [
      "0:\tlearn: 0.5647702\ttotal: 103ms\tremaining: 51.5s\n",
      "100:\tlearn: 0.0396099\ttotal: 11.4s\tremaining: 45.1s\n",
      "200:\tlearn: 0.0257123\ttotal: 21.8s\tremaining: 32.4s\n",
      "300:\tlearn: 0.0159262\ttotal: 34.5s\tremaining: 22.8s\n",
      "400:\tlearn: 0.0112098\ttotal: 47.4s\tremaining: 11.7s\n",
      "499:\tlearn: 0.0092482\ttotal: 60s\tremaining: 0us\n",
      "Отчет на обучающей выборке:\n",
      "              precision    recall  f1-score   support\n",
      "\n",
      "           0       1.00      1.00      1.00     14020\n",
      "           1       0.99      1.00      0.99       436\n",
      "\n",
      "    accuracy                           1.00     14456\n",
      "   macro avg       0.99      1.00      1.00     14456\n",
      "weighted avg       1.00      1.00      1.00     14456\n",
      "\n",
      "ROC-AUC на обучающей выборке: 1.000\n",
      "Сохранено 439 потенциальных покупателей в файл 'potential_buyers_train_cb.csv'.\n"
     ]
    }
   ],
   "source": [
    "import pandas as pd\n",
    "from catboost import CatBoostClassifier\n",
    "from sklearn.metrics import classification_report, roc_auc_score\n",
    "\n",
    "# Загрузка тренировочных данных\n",
    "train_data = pd.read_csv('cleaned_train.csv')\n",
    "\n",
    "# Разделение признаков и целевой переменной\n",
    "X_train = train_data.drop(columns=['client_id', 'target'])\n",
    "y_train = train_data['target']\n",
    "\n",
    "# Определение категориальных признаков\n",
    "categorical_features = X_train.select_dtypes(include=['object', 'category']).columns.tolist()\n",
    "\n",
    "# Преобразование категориальных признаков в строки\n",
    "X_train[categorical_features] = X_train[categorical_features].astype(str)\n",
    "\n",
    "# Обучение модели CatBoost\n",
    "model = CatBoostClassifier(\n",
    "    iterations=500,            # Количество итераций\n",
    "    depth=8,                   # Глубина дерева\n",
    "    learning_rate=0.05,        # Скорость обучения\n",
    "    loss_function='Logloss',   # Функция потерь\n",
    "    class_weights=[1, 20],     # Сбалансировка классов\n",
    "    random_seed=42,\n",
    "    verbose=100                # Периодичность логирования\n",
    ")\n",
    "model.fit(X_train, y_train, cat_features=categorical_features)\n",
    "\n",
    "# Оценка качества модели на тренировочной выборке\n",
    "y_pred_train = model.predict(X_train)\n",
    "print(\"Отчет на обучающей выборке:\")\n",
    "print(classification_report(y_train, y_pred_train))\n",
    "\n",
    "roc_auc_train = roc_auc_score(y_train, model.predict_proba(X_train)[:, 1])\n",
    "print(f\"ROC-AUC на обучающей выборке: {roc_auc_train:.3f}\")\n",
    "\n",
    "# Предсказание вероятностей\n",
    "y_proba_train = model.predict_proba(X_train)[:, 1]\n",
    "\n",
    "# Фильтрация потенциальных покупателей (вероятность >= 0.6)\n",
    "threshold = 0.6\n",
    "potential_buyers_train = train_data[y_proba_train >= threshold]\n",
    "\n",
    "# Сохранение потенциальных покупателей в файл\n",
    "potential_buyers_train.to_csv('potential_buyers_train_cb.csv', index=False)\n",
    "print(f\"Сохранено {len(potential_buyers_train)} потенциальных покупателей в файл 'potential_buyers_train_cb.csv'.\")"
   ]
  }
 ],
 "metadata": {
  "kernelspec": {
   "display_name": "Python 3",
   "language": "python",
   "name": "python3"
  },
  "language_info": {
   "codemirror_mode": {
    "name": "ipython",
    "version": 3
   },
   "file_extension": ".py",
   "mimetype": "text/x-python",
   "name": "python",
   "nbconvert_exporter": "python",
   "pygments_lexer": "ipython3",
   "version": "3.11.9"
  }
 },
 "nbformat": 4,
 "nbformat_minor": 2
}
